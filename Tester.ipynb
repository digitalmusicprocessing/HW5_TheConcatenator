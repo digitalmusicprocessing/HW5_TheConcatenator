{
 "cells": [
  {
   "cell_type": "code",
   "execution_count": 6,
   "id": "b8391ff5-d32b-4e2a-921c-57a8863d5841",
   "metadata": {},
   "outputs": [
    {
     "name": "stdout",
     "output_type": "stream",
     "text": [
      "The autoreload extension is already loaded. To reload it, use:\n",
      "  %reload_ext autoreload\n"
     ]
    }
   ],
   "source": [
    "%load_ext autoreload\n",
    "%autoreload 2\n",
    "import IPython.display as ipd\n",
    "import numpy as np\n",
    "import matplotlib.pyplot as plt\n",
    "import librosa\n",
    "from utils import load_corpus, load_wav\n",
    "from musaic import musaic"
   ]
  },
  {
   "cell_type": "code",
   "execution_count": null,
   "id": "a82fe438-6eaf-47a4-9a51-a1f9883a558e",
   "metadata": {},
   "outputs": [],
   "source": [
    "sr = 22050\n",
    "corpus = load_corpus(\"corpus/Bees_Buzzing.wav\", sr=sr, use_librosa=False)\n",
    "ytarget, _ = load_wav(\"target/Beatles_LetItBe.wav\")\n",
    "y = musaic(corpus, ytarget, sr, win=1024, p=10, pd=0.95, temperature=50, n_particles=100, fmax=4000)"
   ]
  },
  {
   "cell_type": "code",
   "execution_count": null,
   "id": "a303fffa-4e99-4f38-93ea-2b263518f7b6",
   "metadata": {},
   "outputs": [],
   "source": [
    "ipd.Audio(y, rate=sr)"
   ]
  },
  {
   "cell_type": "code",
   "execution_count": null,
   "id": "e87c2c79-0613-4667-a0bd-f9de59d888a0",
   "metadata": {},
   "outputs": [],
   "source": []
  }
 ],
 "metadata": {
  "kernelspec": {
   "display_name": "Python 3 (ipykernel)",
   "language": "python",
   "name": "python3"
  },
  "language_info": {
   "codemirror_mode": {
    "name": "ipython",
    "version": 3
   },
   "file_extension": ".py",
   "mimetype": "text/x-python",
   "name": "python",
   "nbconvert_exporter": "python",
   "pygments_lexer": "ipython3",
   "version": "3.11.11"
  }
 },
 "nbformat": 4,
 "nbformat_minor": 5
}
